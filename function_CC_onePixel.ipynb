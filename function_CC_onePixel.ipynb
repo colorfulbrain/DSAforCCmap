# function for cbf and Tmax
from multiprocessing import Pool 
from skimage.morphology import medial_axis
from skimage.filters.rank import median
from skimage.morphology import disk
from scipy import ndimage
from scipy import linalg
from scipy.stats import pearsonr,linregress
import numpy as np
import os
import nibabel as nib
import matplotlib.pyplot as plt 
import pydicom 
from pydicom import dcmread
import cv2

def cross0lag(a, b):
    return np.dot(a, b) / np.sqrt(np.dot(a, a) * np.dot(b, b))

def corr_lag_cbf(roi,slice):
    
    slice_sum = np.min(slice,axis=0)
    image1copy = np.uint8(slice_sum)
    vessel_mask = cv2.adaptiveThreshold(image1copy,1,cv2.ADAPTIVE_THRESH_GAUSSIAN_C,cv2.THRESH_BINARY,101,5)
    vessel_mask = 1-vessel_mask
    vessel_mask = cv2.normalize(vessel_mask, None, alpha=0, beta=1, norm_type=cv2.NORM_MINMAX, dtype=cv2.CV_32F)
    
    # smooth
    blobs = vessel_mask
    blobs = median(blobs,disk(4))

    # Compute the medial axis (skeleton) and the distance transform
    # modified usr/local/anaconda3/lib/python3.7/site-packages/skimage/morphology/_skeletonize.py
    # Build distance transform
    #distance = ndi.distance_transform_edt(masked_image)-->distance, inds = ndi.distance_transform_edt(masked_image, return_indices=True)
    # inds is the coordinator of pixel which has the 'distance' with pixels in 'distance'
    skel, distance,inds = medial_axis(blobs, return_distance=True)

    # flipping skeleton
    skel_reverse = 1-skel

    # calculate distance to skeleton and then thickness of vessel            
    dist_to_skel = ndimage.distance_transform_edt(skel_reverse)
    dist_to_skel_masked = dist_to_skel*vessel_mask
    thickness = 2*np.sqrt((dist_to_skel_masked+distance)**2-dist_to_skel_masked**2) 

    # real thickness(mm)
    real_thickness = thickness * float(img.ImagerPixelSpacing[0])

    # thickness correction
    ## slice is the intensity, and 
    thickness_min = np.min(thickness[thickness>0])
    brain_mask = 1-vessel_mask # vessel is 0, brain is 1
    brain = (np.zeros((brain_mask.shape[0],brain_mask.shape[1]))+thickness_min)*brain_mask
    vessel = thickness/3.5  #need phantom calibration
    #https://www.ncbi.nlm.nih.gov/core/lw/2.0/html/tileshop_pmc/tileshop_pmc_inline.html?title=Click%20on%20image%20to%20zoom&p=PMC3&id=2780468_MPHYA6-000036-005347_1-g008.jpg
    #https://pubmed.ncbi.nlm.nih.gov/19994543/

    thickness_correction = brain + vessel
    thickness_correction[thickness_correction==0]=thickness_min  #fill some holes
    concentration=np.empty((slice.shape[0],slice.shape[1],slice.shape[2]))

    for i in range(0, slice.shape[0]):        
        concentration[i,:,:] = slice[i,:,:]/thickness_correction
 
    ## extract mean value from ROI
    time_course=np.empty((roi.shape[0],concentration.shape[0]))
    slice_time_course=np.empty((roi.shape[0],concentration.shape[0]))
    for j in range(concentration.shape[0]):
        for i in range(roi.shape[0]):
            time_course[i,j]=np.mean(concentration[j,roi[i,0,1]:roi[i,1,1],roi[i,0,0]:roi[i,1,0]])
            slice_time_course[i,j]=np.mean(slice[j,roi[i,0,1]:roi[i,1,1],roi[i,0,0]:roi[i,1,0]])

    Ca = linalg.toeplitz(-time_course[0,:])
    Ca = np.tril(Ca)
    U, W, Vt = np.linalg.svd(Ca, full_matrices=True)
    threshold = -np.sort(-W[W!=0])
    W = np.diag(W)
    W[W<threshold[3]]=0
    W_inv = np.linalg.pinv(W)

    CBF = np.empty((concentration.shape[1],concentration.shape[2]))
    Tmax = np.empty((concentration.shape[1],concentration.shape[2]))
    for i in range(slice.shape[1]):
        for j in range(slice.shape[2]):
            Cu = np.reshape(-concentration[:,i,j],(concentration.shape[0],1))
            R = ((Vt.T.dot(W_inv)).dot(U.T)).dot(Cu)
            CBF[i,j] = np.max(R)
            Tmax[i,j] = np.argmax(R)
    Tmax = Tmax*1/2.5
    
    Tmax_raw = Tmax*2.5

    Corr = np.empty((slice.shape[1],slice.shape[2]))
    Corr_p = np.empty((slice.shape[1],slice.shape[2]))
    Corr_sig = np.empty((slice.shape[1],slice.shape[2]))
    Corr_se = np.empty((slice.shape[1],slice.shape[2]))

    for i in range(slice.shape[1]):
        for j in range(slice.shape[2]):
            if Tmax[i,j] < 9:
                shift = np.int(Tmax_raw[i,j])
                if shift == 0:
                    Corr[i,j] = cross0lag(time_course[0,:],concentration[:,i,j])
                else:
                    Corr[i,j] = np.dot(time_course[0,:-shift],concentration[shift:,i,j])/np.sqrt(np.dot(time_course[0,:], time_course[0,:]) * np.dot(concentration[:,i,j], concentration[:,i,j]))
            else:
                Corr[i,j] = 0

                        

    return CBF,Tmax,Corr
